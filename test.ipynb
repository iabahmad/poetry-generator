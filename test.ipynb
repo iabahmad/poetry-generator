{
 "cells": [
  {
   "cell_type": "code",
   "execution_count": 25,
   "metadata": {},
   "outputs": [],
   "source": [
    "from bs4 import BeautifulSoup\n",
    "import requests"
   ]
  },
  {
   "cell_type": "code",
   "execution_count": 33,
   "metadata": {},
   "outputs": [],
   "source": [
    "link = 'https://www.rekhta.org/poets/faiz-ahmad-faiz/nazms'\n",
    "response = requests.get(link)\n",
    "soup = BeautifulSoup(response.text, 'html.parser')\n",
    "\n"
   ]
  },
  {
   "cell_type": "code",
   "execution_count": 75,
   "metadata": {},
   "outputs": [
    {
     "name": "stdout",
     "output_type": "stream",
     "text": [
      "https://www.rekhta.org/nazms/mujh-se-pahlii-sii-mohabbat-mirii-mahbuub-na-maang-mujh-se-pahlii-sii-mohabbat-mirii-mahbuub-na-maang-faiz-ahmad-faiz-nazms\n",
      "https://www.rekhta.org/nazms/kuchh-ishq-kiyaa-kuchh-kaam-kiyaa-kuchh-ishq-kiyaa-kuchh-kaam-kiyaa-faiz-ahmad-faiz-nazms\n",
      "https://www.rekhta.org/nazms/va-yabqaa-vajh-o-rabbik-hum-dekhenge-ham-dekhenge-faiz-ahmad-faiz-nazms\n",
      "https://www.rekhta.org/nazms/raqiib-se-aa-ki-vaabasta-hain-us-husn-kii-yaaden-tujh-se-faiz-ahmad-faiz-nazms\n",
      "https://www.rekhta.org/nazms/bol-bol-ki-lab-aazaad-hain-tere-faiz-ahmad-faiz-nazms\n",
      "https://www.rekhta.org/nazms/aaj-baazaar-men-paa-ba-jaulaan-chalo-chashm-e-nam-jaan-e-shoriida-kaafii-nahiin-faiz-ahmad-faiz-nazms\n",
      "https://www.rekhta.org/nazms/nisaar-main-terii-galiyon-ke-nisaar-main-tirii-galiyon-ke-ai-vatan-ki-jahaan-faiz-ahmad-faiz-nazms\n",
      "https://www.rekhta.org/nazms/tanhaaii-phir-koii-aayaa-dil-e-zaar-nahiin-koii-nahiin-faiz-ahmad-faiz-nazms\n",
      "https://www.rekhta.org/nazms/subh-e-aazaadii-august-47-ye-daag-daag-ujaalaa-ye-shab-gaziida-sahar-faiz-ahmad-faiz-nazms\n",
      "https://www.rekhta.org/nazms/yaad-dasht-e-tanhaaii-men-ai-jaan-e-jahaan-larzaan-hain-faiz-ahmad-faiz-nazms\n",
      "https://www.rekhta.org/nazms/mire-hamdam-mire-dost-gar-mujhe-is-kaa-yaqiin-ho-mire-hamdam-mire-dost-faiz-ahmad-faiz-nazms\n",
      "https://www.rekhta.org/nazms/chand-roz-aur-mirii-jaan-chand-roz-aur-mirii-jaan-faqat-chand-hii-roz-faiz-ahmad-faiz-nazms\n",
      "https://www.rekhta.org/nazms/ham-jo-taariik-raahon-men-maare-gae-tere-honton-ke-phuulon-kii-chaahat-men-ham-faiz-ahmad-faiz-nazms\n",
      "https://www.rekhta.org/nazms/is-vaqt-to-yuun-lagtaa-hai-faiz-ahmad-faiz-nazms\n",
      "https://www.rekhta.org/nazms/kutte-ye-galiyon-ke-aavaara-be-kaar-kutte-faiz-ahmad-faiz-nazms\n",
      "https://www.rekhta.org/nazms/intisaab-aaj-ke-naam-faiz-ahmad-faiz-nazms\n",
      "https://www.rekhta.org/nazms/dhaaka-se-vaapsii-par-ham-ki-thahre-ajnabii-itnii-mudaaraaton-ke-baad-faiz-ahmad-faiz-nazms\n",
      "https://www.rekhta.org/nazms/duaa-aaiye-haath-uthaaen-ham-bhii-faiz-ahmad-faiz-nazms\n",
      "https://www.rekhta.org/nazms/do-ishq-1-faiz-ahmad-faiz-nazms\n",
      "https://www.rekhta.org/nazms/lauh-o-qalam-ham-parvarish-e-lauh-o-qalam-karte-rahenge-faiz-ahmad-faiz-nazms-3\n",
      "https://www.rekhta.org/nazms/paas-raho-tum-mire-paas-raho-faiz-ahmad-faiz-nazms\n",
      "https://www.rekhta.org/nazms/taraana-darbaar-e-vatan-men-jab-ik-din-sab-jaane-vaale-jaaenge-faiz-ahmad-faiz-nazms\n",
      "https://www.rekhta.org/nazms/dard-aaegaa-dabe-paanv-aur-kuchh-der-men-jab-phir-mire-tanhaa-dil-ko-faiz-ahmad-faiz-nazms\n",
      "https://www.rekhta.org/nazms/aakhirii-khat-vo-vaqt-mirii-jaan-bahut-duur-nahiin-hai-faiz-ahmad-faiz-nazms\n",
      "https://www.rekhta.org/nazms/ye-fasl-umiidon-kii-hamdam-sab-kaat-do-faiz-ahmad-faiz-nazms\n",
      "https://www.rekhta.org/nazms/shiishon-kaa-masiihaa-koii-nahiin-motii-ho-ki-shiisha-jaam-ki-dur-faiz-ahmad-faiz-nazms\n",
      "https://www.rekhta.org/nazms/mauzuu-e-sukhan-gul-huii-jaatii-hai-afsurda-sulagtii-huii-shaam-faiz-ahmad-faiz-nazms\n",
      "https://www.rekhta.org/nazms/dil-e-man-musaafir-e-man-mire-dil-mire-musaafir-faiz-ahmad-faiz-nazms\n",
      "https://www.rekhta.org/nazms/hijr-kii-raakh-aur-visaal-ke-phuul-aaj-phir-dard-o-gam-ke-dhaage-men-faiz-ahmad-faiz-nazms\n",
      "https://www.rekhta.org/nazms/jab-terii-samundar-aankhon-men-ye-dhuup-kinaaraa-shaam-dhale-faiz-ahmad-faiz-nazms\n",
      "https://www.rekhta.org/nazms/ham-to-majbuur-e-vafaa-hain-faiz-ahmad-faiz-nazms\n",
      "https://www.rekhta.org/nazms/mulaaqaat-ye-raat-us-dard-kaa-shajar-hai-faiz-ahmad-faiz-nazms\n",
      "https://www.rekhta.org/nazms/tum-apnii-karnii-kar-guzro-ab-kyuun-us-din-kaa-zikr-karo-faiz-ahmad-faiz-nazms\n",
      "https://www.rekhta.org/nazms/koii-aashiq-kisii-mahbuuba-se-gulshan-e-yaad-men-gar-aaj-dam-e-baad-e-sabaa-faiz-ahmad-faiz-nazms-3\n",
      "https://www.rekhta.org/nazms/jo-meraa-tumhaaraa-rishta-hai-faiz-ahmad-faiz-nazms\n",
      "https://www.rekhta.org/nazms/khudaa-vo-vaqt-na-laae-khudaa-vo-vaqt-na-laae-ki-sogvaar-ho-tuu-faiz-ahmad-faiz-nazms\n",
      "https://www.rekhta.org/nazms/rang-hai-dil-kaa-mire-tum-na-aae-the-to-har-ik-chiiz-vahii-thii-ki-jo-hai-faiz-ahmad-faiz-nazms\n",
      "https://www.rekhta.org/nazms/aaj-ik-harf-ko-phir-dhuundtaa-phirtaa-hai-khayaal-aaj-ik-harf-ko-phir-dhuundtaa-phirtaa-hai-khayaal-faiz-ahmad-faiz-nazms\n",
      "https://www.rekhta.org/nazms/bahaar-aaii-faiz-ahmad-faiz-nazms\n",
      "https://www.rekhta.org/nazms/heart-attack-dard-itnaa-thaa-ki-us-raat-dil-e-vahshii-ne-faiz-ahmad-faiz-nazms\n",
      "https://www.rekhta.org/nazms/zindaan-kii-ek-shaam-shaam-ke-pech-o-kham-sitaaron-se-faiz-ahmad-faiz-nazms\n",
      "https://www.rekhta.org/nazms/vaasokht-sach-hai-hamiin-ko-aap-ke-shikve-bajaa-na-the-faiz-ahmad-faiz-nazms\n",
      "https://www.rekhta.org/nazms/mire-dard-ko-jo-zabaan-mile-miraa-dard-nagma-e-be-sadaa-faiz-ahmad-faiz-nazms\n",
      "https://www.rekhta.org/nazms/aaj-kii-raat-faiz-ahmad-faiz-nazms\n",
      "https://www.rekhta.org/nazms/tum-hii-kaho-kyaa-karnaa-hai-jab-dukh-kii-nadiyaa-men-ham-ne-faiz-ahmad-faiz-nazms\n",
      "https://www.rekhta.org/nazms/intizaar-guzar-rahe-hain-shab-o-roz-tum-nahiin-aatiin-faiz-ahmad-faiz-nazms\n",
      "https://www.rekhta.org/nazms/giit-chalo-phir-se-muskuraaen-faiz-ahmad-faiz-nazms\n",
      "https://www.rekhta.org/nazms/aarzuu-faiz-ahmad-faiz-nazms\n",
      "https://www.rekhta.org/nazms/gam-na-kar-gam-na-kar-faiz-ahmad-faiz-nazms\n",
      "https://www.rekhta.org/nazms/ek-rah-guzar-par-faiz-ahmad-faiz-nazms\n"
     ]
    }
   ],
   "source": [
    "with open('faiz.txt', 'w') as f:\n",
    "    for i in soup.find_all('div', class_='contentListItems nwPoetListBody'):\n",
    "        print(i.find('a',href=True).get('href'))\n",
    "        f.write(i.find('a',href=True).get('href'))\n",
    "        f.write('\\n')\n",
    "        \n"
   ]
  },
  {
   "cell_type": "code",
   "execution_count": null,
   "metadata": {},
   "outputs": [],
   "source": []
  },
  {
   "cell_type": "code",
   "execution_count": 21,
   "metadata": {},
   "outputs": [
    {
     "ename": "NameError",
     "evalue": "name 'max_sequence_len' is not defined",
     "output_type": "error",
     "traceback": [
      "\u001b[1;31m---------------------------------------------------------------------------\u001b[0m",
      "\u001b[1;31mNameError\u001b[0m                                 Traceback (most recent call last)",
      "Cell \u001b[1;32mIn[21], line 6\u001b[0m\n\u001b[0;32m      4\u001b[0m \u001b[38;5;28;01mfor\u001b[39;00m _ \u001b[38;5;129;01min\u001b[39;00m \u001b[38;5;28mrange\u001b[39m(next_words):\n\u001b[0;32m      5\u001b[0m     token_list \u001b[38;5;241m=\u001b[39m tokenizer\u001b[38;5;241m.\u001b[39mtexts_to_sequences([seed_text])[\u001b[38;5;241m0\u001b[39m]\n\u001b[1;32m----> 6\u001b[0m     token_list \u001b[38;5;241m=\u001b[39m pad_sequences([token_list], maxlen\u001b[38;5;241m=\u001b[39mmax_sequence_len\u001b[38;5;241m-\u001b[39m\u001b[38;5;241m1\u001b[39m, padding\u001b[38;5;241m=\u001b[39m\u001b[38;5;124m'\u001b[39m\u001b[38;5;124mpre\u001b[39m\u001b[38;5;124m'\u001b[39m)\n\u001b[0;32m      7\u001b[0m     predicted \u001b[38;5;241m=\u001b[39m np\u001b[38;5;241m.\u001b[39margmax(model\u001b[38;5;241m.\u001b[39mpredict(token_list), axis\u001b[38;5;241m=\u001b[39m\u001b[38;5;241m-\u001b[39m\u001b[38;5;241m1\u001b[39m)\n\u001b[0;32m      8\u001b[0m     output_word \u001b[38;5;241m=\u001b[39m \u001b[38;5;124m\"\u001b[39m\u001b[38;5;124m\"\u001b[39m\n",
      "\u001b[1;31mNameError\u001b[0m: name 'max_sequence_len' is not defined"
     ]
    }
   ],
   "source": []
  },
  {
   "cell_type": "code",
   "execution_count": null,
   "metadata": {},
   "outputs": [],
   "source": []
  }
 ],
 "metadata": {
  "kernelspec": {
   "display_name": "Python 3",
   "language": "python",
   "name": "python3"
  },
  "language_info": {
   "codemirror_mode": {
    "name": "ipython",
    "version": 3
   },
   "file_extension": ".py",
   "mimetype": "text/x-python",
   "name": "python",
   "nbconvert_exporter": "python",
   "pygments_lexer": "ipython3",
   "version": "3.11.5"
  }
 },
 "nbformat": 4,
 "nbformat_minor": 2
}
